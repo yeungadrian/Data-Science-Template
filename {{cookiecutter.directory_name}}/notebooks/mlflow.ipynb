{
 "cells": [
  {
   "attachments": {},
   "cell_type": "markdown",
   "metadata": {},
   "source": [
    "# MLFlow Tutorial"
   ]
  },
  {
   "attachments": {},
   "cell_type": "markdown",
   "metadata": {},
   "source": [
    "## What is it?\n",
    "MLflow is an open source platform to manage the ML lifecycle, including experimentation, reproducibility, deployment, and a central model registry\n",
    "\n",
    "## What to use it for\n",
    "\n",
    "### MLFlow Tracking\n",
    "\n",
    "MLflow Tracking is an API and UI for logging parameters, code versions, metrics and output files when running your machine learning code to later visualize them.\n",
    "\n",
    "### MLflow Models\n",
    "\n",
    "MLflow Models is a convention for packaging machine learning models in multiple formats called \"flavors\". MLflow offers a variety of tools to help you deploy different flavors of models"
   ]
  },
  {
   "cell_type": "code",
   "execution_count": 1,
   "metadata": {},
   "outputs": [],
   "source": [
    "## Libraries for tutorial\n",
    "import logging\n",
    "\n",
    "import mlflow\n",
    "import sklearn\n",
    "from dotenv import load_dotenv\n",
    "from mlflow.tracking import MlflowClient\n",
    "from mlflow.entities.lifecycle_stage import LifecycleStage\n",
    "from mlflow.exceptions import MlflowException\n"
   ]
  },
  {
   "attachments": {},
   "cell_type": "markdown",
   "metadata": {},
   "source": [
    "## Installation\n",
    "Recommended: Install the same MLFlow version that is deployed on your k8s cluster"
   ]
  },
  {
   "attachments": {},
   "cell_type": "markdown",
   "metadata": {},
   "source": [
    "## Setup"
   ]
  },
  {
   "attachments": {},
   "cell_type": "markdown",
   "metadata": {},
   "source": [
    "We have an MLFlow server deployed on the k8s cluster. \n",
    "\n",
    "There is not need to run a local instance. You will need the following environment variables:\n",
    "- MLFLOW_TRACKING_URI = http://localhost:5001\n",
    "- MLFLOW_S3_ENDPOINT_URL = http://localhost:9000\n",
    "- AWS_ACCESS_KEY_ID=minio\n",
    "- AWS_SECRET_ACCESS_KEY=minio123\n",
    "- experiment_id: 0"
   ]
  },
  {
   "cell_type": "code",
   "execution_count": 2,
   "metadata": {},
   "outputs": [],
   "source": [
    "## Creating an experiment"
   ]
  },
  {
   "cell_type": "code",
   "execution_count": 3,
   "metadata": {},
   "outputs": [
    {
     "data": {
      "text/plain": [
       "True"
      ]
     },
     "execution_count": 3,
     "metadata": {},
     "output_type": "execute_result"
    }
   ],
   "source": [
    "load_dotenv()"
   ]
  },
  {
   "cell_type": "code",
   "execution_count": 23,
   "metadata": {},
   "outputs": [
    {
     "ename": "TypeError",
     "evalue": "'Experiment' object is not subscriptable",
     "output_type": "error",
     "traceback": [
      "\u001b[0;31m---------------------------------------------------------------------------\u001b[0m",
      "\u001b[0;31mTypeError\u001b[0m                                 Traceback (most recent call last)",
      "Cell \u001b[0;32mIn[23], line 1\u001b[0m\n\u001b[0;32m----> 1\u001b[0m j[\u001b[39m'\u001b[39;49m\u001b[39martifactor_location\u001b[39;49m\u001b[39m'\u001b[39;49m]\n",
      "\u001b[0;31mTypeError\u001b[0m: 'Experiment' object is not subscriptable"
     ]
    }
   ],
   "source": [
    "j['artifactor_location']"
   ]
  },
  {
   "cell_type": "code",
   "execution_count": 20,
   "metadata": {},
   "outputs": [
    {
     "ename": "TypeError",
     "evalue": "'Experiment' object is not subscriptable",
     "output_type": "error",
     "traceback": [
      "\u001b[0;31m---------------------------------------------------------------------------\u001b[0m",
      "\u001b[0;31mTypeError\u001b[0m                                 Traceback (most recent call last)",
      "Cell \u001b[0;32mIn[20], line 14\u001b[0m\n\u001b[1;32m      4\u001b[0m single \u001b[39m=\u001b[39m[]\n\u001b[1;32m      5\u001b[0m \u001b[39mfor\u001b[39;00m i \u001b[39min\u001b[39;00m [\n\u001b[1;32m      6\u001b[0m     \u001b[39m'\u001b[39m\u001b[39martifact_location\u001b[39m\u001b[39m'\u001b[39m,\n\u001b[1;32m      7\u001b[0m     \u001b[39m'\u001b[39m\u001b[39mcreation_time\u001b[39m\u001b[39m'\u001b[39m,\n\u001b[0;32m   (...)\u001b[0m\n\u001b[1;32m     12\u001b[0m     \u001b[39m'\u001b[39m\u001b[39mtags\u001b[39m\u001b[39m'\u001b[39m,\n\u001b[1;32m     13\u001b[0m     ]:\n\u001b[0;32m---> 14\u001b[0m     single\u001b[39m.\u001b[39mappend(j[i])\n\u001b[1;32m     15\u001b[0m all_experiments\u001b[39m.\u001b[39mappend(single)\n",
      "\u001b[0;31mTypeError\u001b[0m: 'Experiment' object is not subscriptable"
     ]
    }
   ],
   "source": [
    "experiments = MlflowClient().search_experiments()\n",
    "all_experiments = []\n",
    "for j in experiments:\n",
    "    single =[]\n",
    "    for i in [\n",
    "        'artifact_location',\n",
    "        'creation_time',\n",
    "        'experiment_id',\n",
    "        'last_update_time',\n",
    "        'lifecycle_stage',\n",
    "        'name',\n",
    "        'tags',\n",
    "        ]:\n",
    "        single.append(j[i])\n",
    "    all_experiments.append(single)"
   ]
  },
  {
   "cell_type": "code",
   "execution_count": 18,
   "metadata": {},
   "outputs": [
    {
     "data": {
      "text/plain": [
       "mappingproxy({'__module__': 'mlflow.entities.experiment',\n",
       "              '__doc__': '\\n    Experiment object.\\n    ',\n",
       "              'DEFAULT_EXPERIMENT_NAME': 'Default',\n",
       "              '__init__': <function mlflow.entities.experiment.Experiment.__init__(self, experiment_id, name, artifact_location, lifecycle_stage, tags=None, creation_time=None, last_update_time=None)>,\n",
       "              'experiment_id': <property at 0x112c1e680>,\n",
       "              'name': <property at 0x112c171d0>,\n",
       "              '_set_name': <function mlflow.entities.experiment.Experiment._set_name(self, new_name)>,\n",
       "              'artifact_location': <property at 0x112c17220>,\n",
       "              'lifecycle_stage': <property at 0x112c17a90>,\n",
       "              'tags': <property at 0x112af7130>,\n",
       "              '_add_tag': <function mlflow.entities.experiment.Experiment._add_tag(self, tag)>,\n",
       "              'creation_time': <property at 0x112d48c20>,\n",
       "              '_set_creation_time': <function mlflow.entities.experiment.Experiment._set_creation_time(self, creation_time)>,\n",
       "              'last_update_time': <property at 0x112d48c70>,\n",
       "              '_set_last_update_time': <function mlflow.entities.experiment.Experiment._set_last_update_time(self, last_update_time)>,\n",
       "              'from_proto': <classmethod at 0x112c16100>,\n",
       "              'to_proto': <function mlflow.entities.experiment.Experiment.to_proto(self)>})"
      ]
     },
     "execution_count": 18,
     "metadata": {},
     "output_type": "execute_result"
    }
   ],
   "source": [
    "mlflow.entities.Experiment.__dict__"
   ]
  },
  {
   "cell_type": "code",
   "execution_count": 17,
   "metadata": {},
   "outputs": [
    {
     "data": {
      "text/plain": [
       "['__class__',\n",
       " '__class_getitem__',\n",
       " '__contains__',\n",
       " '__delattr__',\n",
       " '__dir__',\n",
       " '__doc__',\n",
       " '__eq__',\n",
       " '__format__',\n",
       " '__ge__',\n",
       " '__getattribute__',\n",
       " '__getitem__',\n",
       " '__gt__',\n",
       " '__hash__',\n",
       " '__init__',\n",
       " '__init_subclass__',\n",
       " '__ior__',\n",
       " '__iter__',\n",
       " '__le__',\n",
       " '__len__',\n",
       " '__lt__',\n",
       " '__ne__',\n",
       " '__new__',\n",
       " '__or__',\n",
       " '__reduce__',\n",
       " '__reduce_ex__',\n",
       " '__repr__',\n",
       " '__reversed__',\n",
       " '__ror__',\n",
       " '__setattr__',\n",
       " '__sizeof__',\n",
       " '__str__',\n",
       " '__subclasshook__',\n",
       " 'copy',\n",
       " 'get',\n",
       " 'items',\n",
       " 'keys',\n",
       " 'values']"
      ]
     },
     "execution_count": 17,
     "metadata": {},
     "output_type": "execute_result"
    }
   ],
   "source": [
    "dir(mlflow.entities.Experiment.__dict__)"
   ]
  },
  {
   "cell_type": "code",
   "execution_count": 13,
   "metadata": {},
   "outputs": [
    {
     "data": {
      "text/plain": [
       "'0'"
      ]
     },
     "execution_count": 13,
     "metadata": {},
     "output_type": "execute_result"
    }
   ],
   "source": [
    "experiments[0].experiment_id"
   ]
  },
  {
   "cell_type": "code",
   "execution_count": 9,
   "metadata": {},
   "outputs": [
    {
     "data": {
      "text/html": [
       "<div>\n",
       "<style scoped>\n",
       "    .dataframe tbody tr th:only-of-type {\n",
       "        vertical-align: middle;\n",
       "    }\n",
       "\n",
       "    .dataframe tbody tr th {\n",
       "        vertical-align: top;\n",
       "    }\n",
       "\n",
       "    .dataframe thead th {\n",
       "        text-align: right;\n",
       "    }\n",
       "</style>\n",
       "<table border=\"1\" class=\"dataframe\">\n",
       "  <thead>\n",
       "    <tr style=\"text-align: right;\">\n",
       "      <th></th>\n",
       "      <th>0</th>\n",
       "      <th>1</th>\n",
       "      <th>2</th>\n",
       "      <th>3</th>\n",
       "      <th>4</th>\n",
       "      <th>5</th>\n",
       "      <th>6</th>\n",
       "    </tr>\n",
       "  </thead>\n",
       "  <tbody>\n",
       "    <tr>\n",
       "      <th>0</th>\n",
       "      <td>(artifact_location, s3://mlflow/0)</td>\n",
       "      <td>(creation_time, None)</td>\n",
       "      <td>(experiment_id, 0)</td>\n",
       "      <td>(last_update_time, None)</td>\n",
       "      <td>(lifecycle_stage, active)</td>\n",
       "      <td>(name, Default)</td>\n",
       "      <td>(tags, {})</td>\n",
       "    </tr>\n",
       "    <tr>\n",
       "      <th>1</th>\n",
       "      <td>(artifact_location, s3://mlflow/1)</td>\n",
       "      <td>(creation_time, 1671197047344)</td>\n",
       "      <td>(experiment_id, 1)</td>\n",
       "      <td>(last_update_time, 1671197047344)</td>\n",
       "      <td>(lifecycle_stage, active)</td>\n",
       "      <td>(name, Document-Extractor)</td>\n",
       "      <td>(tags, {})</td>\n",
       "    </tr>\n",
       "  </tbody>\n",
       "</table>\n",
       "</div>"
      ],
      "text/plain": [
       "                                    0                               1  \\\n",
       "0  (artifact_location, s3://mlflow/0)           (creation_time, None)   \n",
       "1  (artifact_location, s3://mlflow/1)  (creation_time, 1671197047344)   \n",
       "\n",
       "                    2                                  3  \\\n",
       "0  (experiment_id, 0)           (last_update_time, None)   \n",
       "1  (experiment_id, 1)  (last_update_time, 1671197047344)   \n",
       "\n",
       "                           4                           5           6  \n",
       "0  (lifecycle_stage, active)             (name, Default)  (tags, {})  \n",
       "1  (lifecycle_stage, active)  (name, Document-Extractor)  (tags, {})  "
      ]
     },
     "execution_count": 9,
     "metadata": {},
     "output_type": "execute_result"
    }
   ],
   "source": [
    "pd.DataFrame(experiments)"
   ]
  },
  {
   "cell_type": "code",
   "execution_count": null,
   "metadata": {},
   "outputs": [],
   "source": [
    "def create_experiment(experiment_name):\n",
    "    mlflow_client = MlflowClient()\n",
    "    try:\n",
    "        experiment_id = mlflow_client.create_experiment(\n",
    "            experiment_name\n",
    "        )\n",
    "        logging.info(\n",
    "            f\"Experiment {experiment_name} created with id {experiment_id}\"\n",
    "        )\n",
    "    except MlflowException as create_error:\n",
    "\n",
    "        experiment = mlflow_client.get_experiment_by_name(\n",
    "            experiment_name\n",
    "        )\n",
    "        if experiment.lifecycle_stage == LifecycleStage.DELETED:\n",
    "            logging.error(\n",
    "                f\"Experiment {experiment_name} already DELETED\"\n",
    "            )\n",
    "            raise\n",
    "        experiment_id = experiment.experiment_id\n",
    "        logging.info(\n",
    "            f\"Experiment {experiment_name} exists with id {experiment_id}\"\n",
    "        )"
   ]
  }
 ],
 "metadata": {
  "kernelspec": {
   "display_name": "{{cookiecutter-directory-name}}-ChGLXcDN-py3.9",
   "language": "python",
   "name": "python3"
  },
  "language_info": {
   "codemirror_mode": {
    "name": "ipython",
    "version": 3
   },
   "file_extension": ".py",
   "mimetype": "text/x-python",
   "name": "python",
   "nbconvert_exporter": "python",
   "pygments_lexer": "ipython3",
   "version": "3.9.15"
  },
  "orig_nbformat": 4,
  "vscode": {
   "interpreter": {
    "hash": "84ec4429dc37759330c625f111af0951898bc780bb7cdd78321bc67e9a1acf33"
   }
  }
 },
 "nbformat": 4,
 "nbformat_minor": 2
}
