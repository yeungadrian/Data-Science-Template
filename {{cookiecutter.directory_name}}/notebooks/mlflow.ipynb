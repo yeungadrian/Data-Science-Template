{
 "cells": [
  {
   "attachments": {},
   "cell_type": "markdown",
   "metadata": {},
   "source": [
    "# MLFlow Tutorial"
   ]
  },
  {
   "attachments": {},
   "cell_type": "markdown",
   "metadata": {},
   "source": [
    "## What is it?"
   ]
  },
  {
   "cell_type": "markdown",
   "metadata": {},
   "source": [
    "MLflow is an open source platform to manage the ML lifecycle, including experimentation, reproducibility, deployment, and a central model registry"
   ]
  },
  {
   "attachments": {},
   "cell_type": "markdown",
   "metadata": {},
   "source": [
    "## What we're interested in"
   ]
  },
  {
   "cell_type": "markdown",
   "metadata": {},
   "source": [
    "### MLFlow Tracking\n",
    "\n",
    "MLflow Tracking is an API and UI for logging parameters, code versions, metrics and output files when running your machine learning code to later visualize them.\n",
    "\n",
    "### MLflow Models\n",
    "\n",
    "MLflow Models is a convention for packaging machine learning models in multiple formats called \"flavors\". MLflow offers a variety of tools to help you deploy different flavors of models"
   ]
  },
  {
   "attachments": {},
   "cell_type": "markdown",
   "metadata": {},
   "source": [
    "![Title](mlflow-web-ui.png)\n"
   ]
  },
  {
   "attachments": {},
   "cell_type": "markdown",
   "metadata": {},
   "source": [
    "## Installation"
   ]
  },
  {
   "cell_type": "markdown",
   "metadata": {},
   "source": [
    "Recommended: Install the same MLFlow version that is deployed on your k8s cluster"
   ]
  },
  {
   "attachments": {},
   "cell_type": "markdown",
   "metadata": {},
   "source": [
    "## Setup"
   ]
  },
  {
   "attachments": {},
   "cell_type": "markdown",
   "metadata": {},
   "source": [
    "There is not need to run a local instance, as there is one deployed on the k8s cluster.\n",
    "\n",
    "MLFlow automatically looks for the following environment variables:\n",
    "- MLFLOW_TRACKING_URI = \n",
    "- MLFLOW_S3_ENDPOINT_URL = \n",
    "- AWS_ACCESS_KEY_ID=\n",
    "- AWS_SECRET_ACCESS_KEY="
   ]
  },
  {
   "attachments": {},
   "cell_type": "markdown",
   "metadata": {},
   "source": [
    "## MLFlow Tracking"
   ]
  },
  {
   "attachments": {},
   "cell_type": "markdown",
   "metadata": {},
   "source": [
    "### Model training pipeline goal\n",
    "ML pipelines can broken down into \n",
    "- Loading data\n",
    "- Preprocessing / Splits\n",
    "- Training Model\n",
    "- Model Validation\n",
    "\n",
    "When using MLFlow we should endup with a main function like:\n",
    "```\n",
    "def main(config):\n",
    "    mlflow_client.start_run()\n",
    "    load_data()\n",
    "    process_features()\n",
    "    train_model() \n",
    "    model_validation()\n",
    "    mlflow_client.end_run()\n",
    "\n",
    "```\n",
    "\n",
    "Of which, MLFlow affects two of the stages \n",
    "- train_model: Logging hyperparameters, saving models, model schema, tags & descriptions\n",
    "- model_validation: Logging metrics, visualisations & explainations"
   ]
  },
  {
   "attachments": {},
   "cell_type": "markdown",
   "metadata": {},
   "source": [
    "### Libraries for the tutorial"
   ]
  },
  {
   "cell_type": "markdown",
   "metadata": {},
   "source": [
    "https://gist.github.com/heitorlessa/5b709df96ea6ac5ddc600545c0683d3b"
   ]
  },
  {
   "cell_type": "code",
   "execution_count": 8,
   "metadata": {},
   "outputs": [],
   "source": [
    "import itertools\n",
    "import logging\n",
    "\n",
    "import matplotlib.pyplot as plt\n",
    "import mlflow\n",
    "import numpy as np\n",
    "import pandas as pd\n",
    "import sklearn\n",
    "from dotenv import load_dotenv\n",
    "from mlflow.entities.lifecycle_stage import LifecycleStage\n",
    "from mlflow.exceptions import MlflowException\n",
    "from mlflow.models import infer_signature\n",
    "from mlflow.tracking import MlflowClient\n",
    "from sklearn import metrics\n",
    "from sklearn.datasets import load_iris\n",
    "from sklearn.model_selection import train_test_split\n",
    "from sklearn.ensemble import RandomForestClassifier\n",
    "\n",
    "load_dotenv()\n",
    "\n",
    "logging.basicConfig(\n",
    "    level=logging.INFO,\n",
    "    format=\"%(asctime)s:%(levelname)s:%(message)s\",\n",
    "    datefmt=\"%Y-%m-%d %I:%M:%S%p\",\n",
    ")\n"
   ]
  },
  {
   "attachments": {},
   "cell_type": "markdown",
   "metadata": {},
   "source": [
    "### Creating an experiment\n",
    "- Experiments are identified by their name or id, both which are unique\n",
    "- We can use the search_experiments method to view existing experiments\n",
    "- We want to group models which can be compared under the same experiment"
   ]
  },
  {
   "cell_type": "code",
   "execution_count": 9,
   "metadata": {},
   "outputs": [],
   "source": [
    "# Client will automatically read the environment variables listed above\n",
    "mlflow_client = MlflowClient()\n"
   ]
  },
  {
   "cell_type": "code",
   "execution_count": 10,
   "metadata": {},
   "outputs": [
    {
     "data": {
      "text/html": [
       "<div>\n",
       "<style scoped>\n",
       "    .dataframe tbody tr th:only-of-type {\n",
       "        vertical-align: middle;\n",
       "    }\n",
       "\n",
       "    .dataframe tbody tr th {\n",
       "        vertical-align: top;\n",
       "    }\n",
       "\n",
       "    .dataframe thead th {\n",
       "        text-align: right;\n",
       "    }\n",
       "</style>\n",
       "<table border=\"1\" class=\"dataframe\">\n",
       "  <thead>\n",
       "    <tr style=\"text-align: right;\">\n",
       "      <th></th>\n",
       "      <th>artifact_location</th>\n",
       "      <th>creation_time</th>\n",
       "      <th>experiment_id</th>\n",
       "      <th>last_update_time</th>\n",
       "      <th>lifecycle_stage</th>\n",
       "      <th>name</th>\n",
       "      <th>tags</th>\n",
       "    </tr>\n",
       "  </thead>\n",
       "  <tbody>\n",
       "    <tr>\n",
       "      <th>0</th>\n",
       "      <td>s3://mlflow/0</td>\n",
       "      <td>NaN</td>\n",
       "      <td>0</td>\n",
       "      <td>NaN</td>\n",
       "      <td>active</td>\n",
       "      <td>Default</td>\n",
       "      <td>{}</td>\n",
       "    </tr>\n",
       "    <tr>\n",
       "      <th>1</th>\n",
       "      <td>s3://mlflow/1</td>\n",
       "      <td>1.671197e+12</td>\n",
       "      <td>1</td>\n",
       "      <td>1.671197e+12</td>\n",
       "      <td>active</td>\n",
       "      <td>Document-Extractor</td>\n",
       "      <td>{}</td>\n",
       "    </tr>\n",
       "  </tbody>\n",
       "</table>\n",
       "</div>"
      ],
      "text/plain": [
       "  artifact_location  creation_time experiment_id  last_update_time  \\\n",
       "0     s3://mlflow/0            NaN             0               NaN   \n",
       "1     s3://mlflow/1   1.671197e+12             1      1.671197e+12   \n",
       "\n",
       "  lifecycle_stage                name tags  \n",
       "0          active             Default   {}  \n",
       "1          active  Document-Extractor   {}  "
      ]
     },
     "execution_count": 10,
     "metadata": {},
     "output_type": "execute_result"
    }
   ],
   "source": [
    "# We can list all the experiments that have been created\n",
    "experiments = mlflow_client.search_experiments()\n",
    "experiment_list = []\n",
    "for i in experiments:\n",
    "    experiment_list.append(dict(i))\n",
    "df = pd.DataFrame(experiment_list)\n",
    "df"
   ]
  },
  {
   "cell_type": "code",
   "execution_count": 11,
   "metadata": {},
   "outputs": [],
   "source": [
    "# Move to a common library\n",
    "def create_experiment(mlflow_client, experiment_name):\n",
    "    try:\n",
    "        experiment_id = mlflow_client.create_experiment(experiment_name)\n",
    "        logging.info(\n",
    "            f\"Experiment {experiment_name} created with id {experiment_id}\"\n",
    "        )\n",
    "    except MlflowException as create_error:\n",
    "\n",
    "        experiment = mlflow_client.get_experiment_by_name(experiment_name)\n",
    "        if experiment.lifecycle_stage == LifecycleStage.DELETED:\n",
    "            logging.error(f\"Experiment {experiment_name} already DELETED\")\n",
    "            raise\n",
    "        experiment_id = experiment.experiment_id\n",
    "        logging.info(\n",
    "            f\"Experiment {experiment_name} exists with id {experiment_id}\"\n",
    "        )\n",
    "    return experiment_id\n"
   ]
  },
  {
   "cell_type": "code",
   "execution_count": 14,
   "metadata": {},
   "outputs": [
    {
     "name": "stderr",
     "output_type": "stream",
     "text": [
      "2022-12-18 06:16:19PM:INFO:Experiment Default exists with id 0\n"
     ]
    }
   ],
   "source": [
    "experiment_id = create_experiment(mlflow_client, \"Default\")\n",
    "# Tags are arbitary key value pairs\n",
    "tags = {\n",
    "    \"calibration_date\": \"2021-12-31\",\n",
    "}\n",
    "run = mlflow.start_run(experiment_id=experiment_id, tags=tags)\n"
   ]
  },
  {
   "attachments": {},
   "cell_type": "markdown",
   "metadata": {},
   "source": [
    "### Starting a run\n",
    "I recommend using:\n",
    "```\n",
    "run = mlflow.start_run(experiment_id=experiment_id, tags=tags)\n",
    "train_model()\n",
    "mlflow.end_run()\n",
    "```\n",
    "\n",
    "An alternative approach is to use:\n",
    "```\n",
    "with mlflow.start_run(experiment_id=experiment_id, tags=tags) as run:\n",
    "    train_model()\n",
    "\n",
    "```\n",
    "\n",
    "But anything to have less indents"
   ]
  },
  {
   "attachments": {},
   "cell_type": "markdown",
   "metadata": {},
   "source": [
    "You should have a run that you can see in the MLFlow UI now. \n",
    "\n",
    "It won't be interesting as we haven't logged anything, so let's keep going"
   ]
  },
  {
   "attachments": {},
   "cell_type": "markdown",
   "metadata": {},
   "source": [
    "### Training an ML Model"
   ]
  },
  {
   "attachments": {},
   "cell_type": "markdown",
   "metadata": {},
   "source": [
    "- Hyperparameters, Saving Model, Model Schema, Tags & Descriptions\n",
    "- Using sklearn's iris dataset to train a simple classifier\n",
    "- MLFlow supports many many libraries: https://mlflow.org/docs/latest/python_api/index.html\n",
    "- If it's not listed you can probably use the pyfunc"
   ]
  },
  {
   "cell_type": "code",
   "execution_count": 15,
   "metadata": {},
   "outputs": [
    {
     "data": {
      "text/html": [
       "<style>#sk-container-id-1 {color: black;background-color: white;}#sk-container-id-1 pre{padding: 0;}#sk-container-id-1 div.sk-toggleable {background-color: white;}#sk-container-id-1 label.sk-toggleable__label {cursor: pointer;display: block;width: 100%;margin-bottom: 0;padding: 0.3em;box-sizing: border-box;text-align: center;}#sk-container-id-1 label.sk-toggleable__label-arrow:before {content: \"▸\";float: left;margin-right: 0.25em;color: #696969;}#sk-container-id-1 label.sk-toggleable__label-arrow:hover:before {color: black;}#sk-container-id-1 div.sk-estimator:hover label.sk-toggleable__label-arrow:before {color: black;}#sk-container-id-1 div.sk-toggleable__content {max-height: 0;max-width: 0;overflow: hidden;text-align: left;background-color: #f0f8ff;}#sk-container-id-1 div.sk-toggleable__content pre {margin: 0.2em;color: black;border-radius: 0.25em;background-color: #f0f8ff;}#sk-container-id-1 input.sk-toggleable__control:checked~div.sk-toggleable__content {max-height: 200px;max-width: 100%;overflow: auto;}#sk-container-id-1 input.sk-toggleable__control:checked~label.sk-toggleable__label-arrow:before {content: \"▾\";}#sk-container-id-1 div.sk-estimator input.sk-toggleable__control:checked~label.sk-toggleable__label {background-color: #d4ebff;}#sk-container-id-1 div.sk-label input.sk-toggleable__control:checked~label.sk-toggleable__label {background-color: #d4ebff;}#sk-container-id-1 input.sk-hidden--visually {border: 0;clip: rect(1px 1px 1px 1px);clip: rect(1px, 1px, 1px, 1px);height: 1px;margin: -1px;overflow: hidden;padding: 0;position: absolute;width: 1px;}#sk-container-id-1 div.sk-estimator {font-family: monospace;background-color: #f0f8ff;border: 1px dotted black;border-radius: 0.25em;box-sizing: border-box;margin-bottom: 0.5em;}#sk-container-id-1 div.sk-estimator:hover {background-color: #d4ebff;}#sk-container-id-1 div.sk-parallel-item::after {content: \"\";width: 100%;border-bottom: 1px solid gray;flex-grow: 1;}#sk-container-id-1 div.sk-label:hover label.sk-toggleable__label {background-color: #d4ebff;}#sk-container-id-1 div.sk-serial::before {content: \"\";position: absolute;border-left: 1px solid gray;box-sizing: border-box;top: 0;bottom: 0;left: 50%;z-index: 0;}#sk-container-id-1 div.sk-serial {display: flex;flex-direction: column;align-items: center;background-color: white;padding-right: 0.2em;padding-left: 0.2em;position: relative;}#sk-container-id-1 div.sk-item {position: relative;z-index: 1;}#sk-container-id-1 div.sk-parallel {display: flex;align-items: stretch;justify-content: center;background-color: white;position: relative;}#sk-container-id-1 div.sk-item::before, #sk-container-id-1 div.sk-parallel-item::before {content: \"\";position: absolute;border-left: 1px solid gray;box-sizing: border-box;top: 0;bottom: 0;left: 50%;z-index: -1;}#sk-container-id-1 div.sk-parallel-item {display: flex;flex-direction: column;z-index: 1;position: relative;background-color: white;}#sk-container-id-1 div.sk-parallel-item:first-child::after {align-self: flex-end;width: 50%;}#sk-container-id-1 div.sk-parallel-item:last-child::after {align-self: flex-start;width: 50%;}#sk-container-id-1 div.sk-parallel-item:only-child::after {width: 0;}#sk-container-id-1 div.sk-dashed-wrapped {border: 1px dashed gray;margin: 0 0.4em 0.5em 0.4em;box-sizing: border-box;padding-bottom: 0.4em;background-color: white;}#sk-container-id-1 div.sk-label label {font-family: monospace;font-weight: bold;display: inline-block;line-height: 1.2em;}#sk-container-id-1 div.sk-label-container {text-align: center;}#sk-container-id-1 div.sk-container {/* jupyter's `normalize.less` sets `[hidden] { display: none; }` but bootstrap.min.css set `[hidden] { display: none !important; }` so we also need the `!important` here to be able to override the default hidden behavior on the sphinx rendered scikit-learn.org. See: https://github.com/scikit-learn/scikit-learn/issues/21755 */display: inline-block !important;position: relative;}#sk-container-id-1 div.sk-text-repr-fallback {display: none;}</style><div id=\"sk-container-id-1\" class=\"sk-top-container\"><div class=\"sk-text-repr-fallback\"><pre>RandomForestClassifier()</pre><b>In a Jupyter environment, please rerun this cell to show the HTML representation or trust the notebook. <br />On GitHub, the HTML representation is unable to render, please try loading this page with nbviewer.org.</b></div><div class=\"sk-container\" hidden><div class=\"sk-item\"><div class=\"sk-estimator sk-toggleable\"><input class=\"sk-toggleable__control sk-hidden--visually\" id=\"sk-estimator-id-1\" type=\"checkbox\" checked><label for=\"sk-estimator-id-1\" class=\"sk-toggleable__label sk-toggleable__label-arrow\">RandomForestClassifier</label><div class=\"sk-toggleable__content\"><pre>RandomForestClassifier()</pre></div></div></div></div></div>"
      ],
      "text/plain": [
       "RandomForestClassifier()"
      ]
     },
     "execution_count": 15,
     "metadata": {},
     "output_type": "execute_result"
    }
   ],
   "source": [
    "iris_dataset = load_iris()\n",
    "X_train, X_test, y_train, y_test = train_test_split(\n",
    "    iris_dataset[\"data\"],\n",
    "    iris_dataset[\"target\"],\n",
    "    test_size=0.25,\n",
    "    random_state=0,\n",
    ")\n",
    "model = RandomForestClassifier()\n",
    "model.fit(X_train, y_train)\n"
   ]
  },
  {
   "cell_type": "code",
   "execution_count": 16,
   "metadata": {},
   "outputs": [
    {
     "name": "stderr",
     "output_type": "stream",
     "text": [
      "/Users/yeungadrian/Library/Caches/pypoetry/virtualenvs/{{cookiecutter-directory-name}}-ChGLXcDN-py3.9/lib/python3.9/site-packages/_distutils_hack/__init__.py:33: UserWarning: Setuptools is replacing distutils.\n",
      "  warnings.warn(\"Setuptools is replacing distutils.\")\n",
      "2022-12-18 06:16:30PM:INFO:Found credentials in environment variables.\n"
     ]
    }
   ],
   "source": [
    "# Log any dictionary\n",
    "mlflow.log_params(model.get_params())\n",
    "# Infer signature works best when the data is in a pd.DataFrame\n",
    "model_signature = infer_signature(X_train, y_train)\n",
    "# Saves model as pkl file\n",
    "# You can customise the function depending on the model library. MLFlow supports most\n",
    "logged_model_info = mlflow.sklearn.log_model(\n",
    "    model, \"sklearn_classifier\", signature=model_signature\n",
    ")\n"
   ]
  },
  {
   "attachments": {},
   "cell_type": "markdown",
   "metadata": {},
   "source": [
    "### Model Validation"
   ]
  },
  {
   "cell_type": "markdown",
   "metadata": {},
   "source": [
    "We want to save model metrics, visualisations and explainability to ensure that our model whether our model is useful\n",
    "\n",
    "- AUC\n",
    "- Confusion Matrix\n",
    "- Prediction distributions\n",
    "- Shap values\n",
    "- Feature importance\n",
    "\n",
    "Confusion matrix example illustrated below, but customise it to your project"
   ]
  },
  {
   "cell_type": "markdown",
   "metadata": {},
   "source": [
    "Read docs for all methods: https://mlflow.org/docs/latest/python_api/mlflow.html"
   ]
  },
  {
   "cell_type": "code",
   "execution_count": 17,
   "metadata": {},
   "outputs": [],
   "source": [
    "def plot_confusion_matrix(\n",
    "    cm,\n",
    "    classes,\n",
    "    normalize=False,\n",
    "    title=\"Confusion matrix\",\n",
    "):\n",
    "    \"\"\"\n",
    "    Generate multiclass confusion matrix plot\n",
    "\n",
    "    Args:\n",
    "        cm (np.ndarray): Confusion matrix results\n",
    "        classes (List): List of all classes\n",
    "        normalize (bool=False): Show normalised results\n",
    "        title (str=\"Confusionmatrix\"): Plot title\n",
    "\n",
    "    Returns:\n",
    "        plt.figure: confusion matrix plot\n",
    "\n",
    "    \"\"\"\n",
    "    cmap = plt.cm.Blues\n",
    "    fig = plt.figure()\n",
    "    plt.imshow(cm, interpolation=\"nearest\", cmap=cmap)\n",
    "    plt.title(title)\n",
    "    plt.colorbar()\n",
    "    tick_marks = np.arange(len(classes))\n",
    "    plt.xticks(tick_marks, classes, rotation=45)\n",
    "    plt.yticks(tick_marks, classes)\n",
    "    if normalize:\n",
    "        cm = cm.astype(\"float\") / cm.sum(axis=1)[:, np.newaxis]\n",
    "    thresh = cm.max() / 2.0\n",
    "    for i, j in itertools.product(range(cm.shape[0]), range(cm.shape[1])):\n",
    "        plt.text(\n",
    "            j,\n",
    "            i,\n",
    "            cm[i, j],\n",
    "            horizontalalignment=\"center\",\n",
    "            color=\"white\" if cm[i, j] > thresh else \"black\",\n",
    "        )\n",
    "    plt.tight_layout()\n",
    "    plt.ylabel(\"True label\")\n",
    "    plt.xlabel(\"Predicted label\")\n",
    "    return fig\n"
   ]
  },
  {
   "cell_type": "code",
   "execution_count": 18,
   "metadata": {},
   "outputs": [
    {
     "data": {
      "image/png": "[encoded data removed]",
      "text/plain": [
       "<Figure size 640x480 with 2 Axes>"
      ]
     },
     "metadata": {},
     "output_type": "display_data"
    }
   ],
   "source": [
    "y_pred = model.predict(X_test)\n",
    "score = metrics.balanced_accuracy_score(y_test, y_pred)\n",
    "# Log individual metric as key, value pair\n",
    "# Use log_metrics to log dictionary\n",
    "mlflow.log_metric(\"balanced_accuracy_score\", score)\n",
    "cm = metrics.confusion_matrix(y_test, y_pred)\n",
    "cm_png = plot_confusion_matrix(cm, classes=list(np.unique(y_test)))\n",
    "# Log any matplotlib plot\n",
    "mlflow.log_figure(cm_png, \"confusionmatrix.png\")\n"
   ]
  },
  {
   "cell_type": "code",
   "execution_count": 19,
   "metadata": {},
   "outputs": [],
   "source": [
    "## End the run\n",
    "mlflow.end_run()\n"
   ]
  },
  {
   "cell_type": "markdown",
   "metadata": {},
   "source": [
    "# MLFlow Registry"
   ]
  },
  {
   "attachments": {},
   "cell_type": "markdown",
   "metadata": {},
   "source": [
    "Read: https://mlflow.org/docs/latest/model-registry.html#ui-workflow\n",
    "and use the UI to register models and transition stages.\n",
    "\n",
    "Once you're comfortable with what's going on, you can use the api to automate it for you\n",
    "\n",
    "Once your model is mature, you should add automatic promotion subject the model passing certain validation criteria:\n",
    "\n",
    "e.g. AUROC > 0.85"
   ]
  },
  {
   "attachments": {},
   "cell_type": "markdown",
   "metadata": {},
   "source": [
    "## Model Registery\n",
    "This is MLFlow's centralised stored of models\n",
    "\n",
    "Each model's unique key is the name"
   ]
  },
  {
   "cell_type": "code",
   "execution_count": 20,
   "metadata": {},
   "outputs": [
    {
     "data": {
      "text/html": [
       "<div>\n",
       "<style scoped>\n",
       "    .dataframe tbody tr th:only-of-type {\n",
       "        vertical-align: middle;\n",
       "    }\n",
       "\n",
       "    .dataframe tbody tr th {\n",
       "        vertical-align: top;\n",
       "    }\n",
       "\n",
       "    .dataframe thead th {\n",
       "        text-align: right;\n",
       "    }\n",
       "</style>\n",
       "<table border=\"1\" class=\"dataframe\">\n",
       "  <thead>\n",
       "    <tr style=\"text-align: right;\">\n",
       "      <th></th>\n",
       "      <th>creation_timestamp</th>\n",
       "      <th>description</th>\n",
       "      <th>last_updated_timestamp</th>\n",
       "      <th>latest_versions</th>\n",
       "      <th>name</th>\n",
       "      <th>tags</th>\n",
       "    </tr>\n",
       "  </thead>\n",
       "  <tbody>\n",
       "    <tr>\n",
       "      <th>0</th>\n",
       "      <td>1671221168509</td>\n",
       "      <td></td>\n",
       "      <td>1671235556460</td>\n",
       "      <td>[&lt;ModelVersion: creation_timestamp=16712214242...</td>\n",
       "      <td>iris_classifer</td>\n",
       "      <td>{}</td>\n",
       "    </tr>\n",
       "  </tbody>\n",
       "</table>\n",
       "</div>"
      ],
      "text/plain": [
       "   creation_timestamp description  last_updated_timestamp  \\\n",
       "0       1671221168509                       1671235556460   \n",
       "\n",
       "                                     latest_versions            name tags  \n",
       "0  [<ModelVersion: creation_timestamp=16712214242...  iris_classifer   {}  "
      ]
     },
     "execution_count": 20,
     "metadata": {},
     "output_type": "execute_result"
    }
   ],
   "source": [
    "# Check currently registered models\n",
    "client = MlflowClient()\n",
    "registered_models = []\n",
    "for rm in client.search_registered_models():\n",
    "    registered_models.append(dict(rm))\n",
    "    \n",
    "pd.DataFrame(registered_models)"
   ]
  },
  {
   "cell_type": "code",
   "execution_count": null,
   "metadata": {},
   "outputs": [
    {
     "data": {
      "text/html": [
       "<div>\n",
       "<style scoped>\n",
       "    .dataframe tbody tr th:only-of-type {\n",
       "        vertical-align: middle;\n",
       "    }\n",
       "\n",
       "    .dataframe tbody tr th {\n",
       "        vertical-align: top;\n",
       "    }\n",
       "\n",
       "    .dataframe thead th {\n",
       "        text-align: right;\n",
       "    }\n",
       "</style>\n",
       "<table border=\"1\" class=\"dataframe\">\n",
       "  <thead>\n",
       "    <tr style=\"text-align: right;\">\n",
       "      <th></th>\n",
       "      <th>creation_timestamp</th>\n",
       "      <th>current_stage</th>\n",
       "      <th>description</th>\n",
       "      <th>last_updated_timestamp</th>\n",
       "      <th>name</th>\n",
       "      <th>run_id</th>\n",
       "      <th>run_link</th>\n",
       "      <th>source</th>\n",
       "      <th>status</th>\n",
       "      <th>status_message</th>\n",
       "      <th>tags</th>\n",
       "      <th>user_id</th>\n",
       "      <th>version</th>\n",
       "    </tr>\n",
       "  </thead>\n",
       "  <tbody>\n",
       "    <tr>\n",
       "      <th>0</th>\n",
       "      <td>1671221424237</td>\n",
       "      <td>None</td>\n",
       "      <td></td>\n",
       "      <td>1671221424237</td>\n",
       "      <td>iris_classifer</td>\n",
       "      <td></td>\n",
       "      <td></td>\n",
       "      <td>runs:/7201293f769c4a1288a804aaf6e055fc/sklearn...</td>\n",
       "      <td>READY</td>\n",
       "      <td></td>\n",
       "      <td>{}</td>\n",
       "      <td></td>\n",
       "      <td>1</td>\n",
       "    </tr>\n",
       "    <tr>\n",
       "      <th>1</th>\n",
       "      <td>1671221432212</td>\n",
       "      <td>Archived</td>\n",
       "      <td></td>\n",
       "      <td>1671221576903</td>\n",
       "      <td>iris_classifer</td>\n",
       "      <td></td>\n",
       "      <td></td>\n",
       "      <td>runs:/7201293f769c4a1288a804aaf6e055fc/sklearn...</td>\n",
       "      <td>READY</td>\n",
       "      <td></td>\n",
       "      <td>{}</td>\n",
       "      <td></td>\n",
       "      <td>2</td>\n",
       "    </tr>\n",
       "    <tr>\n",
       "      <th>2</th>\n",
       "      <td>1671221517201</td>\n",
       "      <td>Production</td>\n",
       "      <td></td>\n",
       "      <td>1671221576903</td>\n",
       "      <td>iris_classifer</td>\n",
       "      <td></td>\n",
       "      <td></td>\n",
       "      <td>runs:/7201293f769c4a1288a804aaf6e055fc/sklearn...</td>\n",
       "      <td>READY</td>\n",
       "      <td></td>\n",
       "      <td>{}</td>\n",
       "      <td></td>\n",
       "      <td>3</td>\n",
       "    </tr>\n",
       "  </tbody>\n",
       "</table>\n",
       "</div>"
      ],
      "text/plain": [
       "   creation_timestamp current_stage description  last_updated_timestamp  \\\n",
       "0       1671221424237          None                       1671221424237   \n",
       "1       1671221432212      Archived                       1671221576903   \n",
       "2       1671221517201    Production                       1671221576903   \n",
       "\n",
       "             name run_id run_link  \\\n",
       "0  iris_classifer                   \n",
       "1  iris_classifer                   \n",
       "2  iris_classifer                   \n",
       "\n",
       "                                              source status status_message  \\\n",
       "0  runs:/7201293f769c4a1288a804aaf6e055fc/sklearn...  READY                  \n",
       "1  runs:/7201293f769c4a1288a804aaf6e055fc/sklearn...  READY                  \n",
       "2  runs:/7201293f769c4a1288a804aaf6e055fc/sklearn...  READY                  \n",
       "\n",
       "  tags user_id version  \n",
       "0   {}               1  \n",
       "1   {}               2  \n",
       "2   {}               3  "
      ]
     },
     "execution_count": 76,
     "metadata": {},
     "output_type": "execute_result"
    },
    {
     "ename": "",
     "evalue": "",
     "output_type": "error",
     "traceback": [
      "\u001b[1;31mnotebook controller is DISPOSED. \n",
      "\u001b[1;31mView Jupyter <a href='command:jupyter.viewOutput'>log</a> for further details."
     ]
    },
    {
     "ename": "",
     "evalue": "",
     "output_type": "error",
     "traceback": [
      "\u001b[1;31mnotebook controller is DISPOSED. \n",
      "\u001b[1;31mView Jupyter <a href='command:jupyter.viewOutput'>log</a> for further details."
     ]
    },
    {
     "ename": "",
     "evalue": "",
     "output_type": "error",
     "traceback": [
      "\u001b[1;31mnotebook controller is DISPOSED. \n",
      "\u001b[1;31mView Jupyter <a href='command:jupyter.viewOutput'>log</a> for further details."
     ]
    }
   ],
   "source": [
    "# or filter on specific model\n",
    "# This will be useful for transitioning models\n",
    "\n",
    "registered_models = []\n",
    "# String within a string is intended approach\n",
    "for rm in client.search_registered_models(filter_string=\"name = 'iris_classifer'\")[0].latest_versions:\n",
    "    registered_models.append(dict(rm))\n",
    "    \n",
    "pd.DataFrame(registered_models)"
   ]
  },
  {
   "attachments": {},
   "cell_type": "markdown",
   "metadata": {},
   "source": [
    "### Registering a new model"
   ]
  },
  {
   "cell_type": "code",
   "execution_count": 21,
   "metadata": {},
   "outputs": [],
   "source": [
    "model_name = \"iris_classifer\"\n",
    "model_description =\"iris flower classifier\""
   ]
  },
  {
   "cell_type": "code",
   "execution_count": 22,
   "metadata": {},
   "outputs": [],
   "source": [
    "# Similar to experiments, create if not exists\n",
    "def create_registered_model(mlflow_client, model_name, model_description=None):\n",
    "    try:\n",
    "        mlflow_client.create_registered_model(model_name)\n",
    "        logging.info(\n",
    "            f\"Registered model {model_name} created\"\n",
    "        )\n",
    "    except MlflowException as create_error:\n",
    "        logging.info(f\"Registered model {model_name} already exists\")\n",
    "\n",
    "    return None\n"
   ]
  },
  {
   "cell_type": "code",
   "execution_count": 23,
   "metadata": {},
   "outputs": [
    {
     "name": "stderr",
     "output_type": "stream",
     "text": [
      "2022-12-18 06:18:32PM:INFO:Registered model iris_classifer already exists\n"
     ]
    }
   ],
   "source": [
    "create_registered_model(mlflow_client, model_name, model_description = model_description)\n"
   ]
  },
  {
   "attachments": {},
   "cell_type": "markdown",
   "metadata": {},
   "source": [
    "### Promoting an experiment run to the model registry\n",
    "Once you are happy that your model is performant or you want to test it end to end, we can promote models to the registry\n",
    "To do that we need the name of the model in the model registry and the model uri\n",
    "The model uri is returned when logging a model, alternatively"
   ]
  },
  {
   "attachments": {},
   "cell_type": "markdown",
   "metadata": {},
   "source": [
    "We could use the model validation metrics to automatically promote the model "
   ]
  },
  {
   "cell_type": "code",
   "execution_count": 24,
   "metadata": {},
   "outputs": [
    {
     "name": "stderr",
     "output_type": "stream",
     "text": [
      "2022/12/18 18:18:34 INFO mlflow.tracking._model_registry.client: Waiting up to 300 seconds for model version to finish creation.                     Model name: iris_classifer, version 8\n"
     ]
    }
   ],
   "source": [
    "# Using the model uri\n",
    "result = client.create_model_version(\n",
    "    model_name,\n",
    "    logged_model_info.model_uri,\n",
    "    tags = {\n",
    "    },\n",
    "    description = \"\",\n",
    "    )"
   ]
  },
  {
   "attachments": {},
   "cell_type": "markdown",
   "metadata": {},
   "source": [
    "### Transitioning model stage\n",
    "We can load models based off their version number or stage\n",
    "It's much easier to always load the model from the \"production\" stage, rather than take a specific version\n",
    "We can get the model version when we promote it from an experiment or we can look through the search_registered_models results earlier"
   ]
  },
  {
   "cell_type": "code",
   "execution_count": 25,
   "metadata": {},
   "outputs": [],
   "source": [
    "# Need to specify model to promote\n",
    "#Archive existing versions or you can have multiple models in prod\n",
    "transition_results = client.transition_model_version_stage(\n",
    "    name=model_name,\n",
    "    version=result.version,\n",
    "    stage=\"Production\",\n",
    "    archive_existing_versions=True\n",
    ")"
   ]
  },
  {
   "cell_type": "code",
   "execution_count": 26,
   "metadata": {},
   "outputs": [
    {
     "data": {
      "text/plain": [
       "array([[5.9, 3. , 4.2, 1.5],\n",
       "       [5.8, 2.6, 4. , 1.2],\n",
       "       [6.8, 3. , 5.5, 2.1],\n",
       "       [4.7, 3.2, 1.3, 0.2],\n",
       "       [6.9, 3.1, 5.1, 2.3],\n",
       "       [5. , 3.5, 1.6, 0.6],\n",
       "       [5.4, 3.7, 1.5, 0.2],\n",
       "       [5. , 2. , 3.5, 1. ],\n",
       "       [6.5, 3. , 5.5, 1.8],\n",
       "       [6.7, 3.3, 5.7, 2.5],\n",
       "       [6. , 2.2, 5. , 1.5],\n",
       "       [6.7, 2.5, 5.8, 1.8],\n",
       "       [5.6, 2.5, 3.9, 1.1],\n",
       "       [7.7, 3. , 6.1, 2.3],\n",
       "       [6.3, 3.3, 4.7, 1.6],\n",
       "       [5.5, 2.4, 3.8, 1.1],\n",
       "       [6.3, 2.7, 4.9, 1.8],\n",
       "       [6.3, 2.8, 5.1, 1.5],\n",
       "       [4.9, 2.5, 4.5, 1.7],\n",
       "       [6.3, 2.5, 5. , 1.9],\n",
       "       [7. , 3.2, 4.7, 1.4],\n",
       "       [6.5, 3. , 5.2, 2. ],\n",
       "       [6. , 3.4, 4.5, 1.6],\n",
       "       [4.8, 3.1, 1.6, 0.2],\n",
       "       [5.8, 2.7, 5.1, 1.9],\n",
       "       [5.6, 2.7, 4.2, 1.3],\n",
       "       [5.6, 2.9, 3.6, 1.3],\n",
       "       [5.5, 2.5, 4. , 1.3],\n",
       "       [6.1, 3. , 4.6, 1.4],\n",
       "       [7.2, 3.2, 6. , 1.8],\n",
       "       [5.3, 3.7, 1.5, 0.2],\n",
       "       [4.3, 3. , 1.1, 0.1],\n",
       "       [6.4, 2.7, 5.3, 1.9],\n",
       "       [5.7, 3. , 4.2, 1.2],\n",
       "       [5.4, 3.4, 1.7, 0.2],\n",
       "       [5.7, 4.4, 1.5, 0.4],\n",
       "       [6.9, 3.1, 4.9, 1.5],\n",
       "       [4.6, 3.1, 1.5, 0.2],\n",
       "       [5.9, 3. , 5.1, 1.8],\n",
       "       [5.1, 2.5, 3. , 1.1],\n",
       "       [4.6, 3.4, 1.4, 0.3],\n",
       "       [6.2, 2.2, 4.5, 1.5],\n",
       "       [7.2, 3.6, 6.1, 2.5],\n",
       "       [5.7, 2.9, 4.2, 1.3],\n",
       "       [4.8, 3. , 1.4, 0.1],\n",
       "       [7.1, 3. , 5.9, 2.1],\n",
       "       [6.9, 3.2, 5.7, 2.3],\n",
       "       [6.5, 3. , 5.8, 2.2],\n",
       "       [6.4, 2.8, 5.6, 2.1],\n",
       "       [5.1, 3.8, 1.6, 0.2],\n",
       "       [4.8, 3.4, 1.6, 0.2],\n",
       "       [6.5, 3.2, 5.1, 2. ],\n",
       "       [6.7, 3.3, 5.7, 2.1],\n",
       "       [4.5, 2.3, 1.3, 0.3],\n",
       "       [6.2, 3.4, 5.4, 2.3],\n",
       "       [4.9, 3. , 1.4, 0.2],\n",
       "       [5.7, 2.5, 5. , 2. ],\n",
       "       [6.9, 3.1, 5.4, 2.1],\n",
       "       [4.4, 3.2, 1.3, 0.2],\n",
       "       [5. , 3.6, 1.4, 0.2],\n",
       "       [7.2, 3. , 5.8, 1.6],\n",
       "       [5.1, 3.5, 1.4, 0.3],\n",
       "       [4.4, 3. , 1.3, 0.2],\n",
       "       [5.4, 3.9, 1.7, 0.4],\n",
       "       [5.5, 2.3, 4. , 1.3],\n",
       "       [6.8, 3.2, 5.9, 2.3],\n",
       "       [7.6, 3. , 6.6, 2.1],\n",
       "       [5.1, 3.5, 1.4, 0.2],\n",
       "       [4.9, 3.1, 1.5, 0.2],\n",
       "       [5.2, 3.4, 1.4, 0.2],\n",
       "       [5.7, 2.8, 4.5, 1.3],\n",
       "       [6.6, 3. , 4.4, 1.4],\n",
       "       [5. , 3.2, 1.2, 0.2],\n",
       "       [5.1, 3.3, 1.7, 0.5],\n",
       "       [6.4, 2.9, 4.3, 1.3],\n",
       "       [5.4, 3.4, 1.5, 0.4],\n",
       "       [7.7, 2.6, 6.9, 2.3],\n",
       "       [4.9, 2.4, 3.3, 1. ],\n",
       "       [7.9, 3.8, 6.4, 2. ],\n",
       "       [6.7, 3.1, 4.4, 1.4],\n",
       "       [5.2, 4.1, 1.5, 0.1],\n",
       "       [6. , 3. , 4.8, 1.8],\n",
       "       [5.8, 4. , 1.2, 0.2],\n",
       "       [7.7, 2.8, 6.7, 2. ],\n",
       "       [5.1, 3.8, 1.5, 0.3],\n",
       "       [4.7, 3.2, 1.6, 0.2],\n",
       "       [7.4, 2.8, 6.1, 1.9],\n",
       "       [5. , 3.3, 1.4, 0.2],\n",
       "       [6.3, 3.4, 5.6, 2.4],\n",
       "       [5.7, 2.8, 4.1, 1.3],\n",
       "       [5.8, 2.7, 3.9, 1.2],\n",
       "       [5.7, 2.6, 3.5, 1. ],\n",
       "       [6.4, 3.2, 5.3, 2.3],\n",
       "       [6.7, 3. , 5.2, 2.3],\n",
       "       [6.3, 2.5, 4.9, 1.5],\n",
       "       [6.7, 3. , 5. , 1.7],\n",
       "       [5. , 3. , 1.6, 0.2],\n",
       "       [5.5, 2.4, 3.7, 1. ],\n",
       "       [6.7, 3.1, 5.6, 2.4],\n",
       "       [5.8, 2.7, 5.1, 1.9],\n",
       "       [5.1, 3.4, 1.5, 0.2],\n",
       "       [6.6, 2.9, 4.6, 1.3],\n",
       "       [5.6, 3. , 4.1, 1.3],\n",
       "       [5.9, 3.2, 4.8, 1.8],\n",
       "       [6.3, 2.3, 4.4, 1.3],\n",
       "       [5.5, 3.5, 1.3, 0.2],\n",
       "       [5.1, 3.7, 1.5, 0.4],\n",
       "       [4.9, 3.1, 1.5, 0.1],\n",
       "       [6.3, 2.9, 5.6, 1.8],\n",
       "       [5.8, 2.7, 4.1, 1. ],\n",
       "       [7.7, 3.8, 6.7, 2.2],\n",
       "       [4.6, 3.2, 1.4, 0.2]])"
      ]
     },
     "execution_count": 26,
     "metadata": {},
     "output_type": "execute_result"
    }
   ],
   "source": [
    "X_train"
   ]
  },
  {
   "cell_type": "code",
   "execution_count": null,
   "metadata": {},
   "outputs": [],
   "source": []
  }
 ],
 "metadata": {
  "kernelspec": {
   "display_name": "{{cookiecutter-directory-name}}-ChGLXcDN-py3.9",
   "language": "python",
   "name": "python3"
  },
  "language_info": {
   "codemirror_mode": {
    "name": "ipython",
    "version": 3
   },
   "file_extension": ".py",
   "mimetype": "text/x-python",
   "name": "python",
   "nbconvert_exporter": "python",
   "pygments_lexer": "ipython3",
   "version": "3.9.15 (main, Oct 11 2022, 22:27:25) \n[Clang 14.0.0 (clang-1400.0.29.102)]"
  },
  "orig_nbformat": 4,
  "vscode": {
   "interpreter": {
    "hash": "84ec4429dc37759330c625f111af0951898bc780bb7cdd78321bc67e9a1acf33"
   }
  }
 },
 "nbformat": 4,
 "nbformat_minor": 2
}
